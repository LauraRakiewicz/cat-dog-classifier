{
 "cells": [
  {
   "cell_type": "code",
   "execution_count": 14,
   "metadata": {},
   "outputs": [
    {
     "name": "stdout",
     "output_type": "stream",
     "text": [
      "Train on 22451 samples, validate on 2495 samples\n",
      "Epoch 1/6\n",
      "22451/22451 [==============================] - 182s 8ms/step - loss: 0.6200 - acc: 0.6516 - val_loss: 0.5480 - val_acc: 0.7295\n",
      "Epoch 2/6\n",
      "22451/22451 [==============================] - 183s 8ms/step - loss: 0.5319 - acc: 0.7367 - val_loss: 0.5243 - val_acc: 0.7455\n",
      "Epoch 3/6\n",
      "22451/22451 [==============================] - 181s 8ms/step - loss: 0.4896 - acc: 0.7664 - val_loss: 0.4953 - val_acc: 0.7687\n",
      "Epoch 4/6\n",
      "22451/22451 [==============================] - 183s 8ms/step - loss: 0.4645 - acc: 0.7811 - val_loss: 0.4669 - val_acc: 0.7820\n",
      "Epoch 5/6\n",
      "22451/22451 [==============================] - 180s 8ms/step - loss: 0.4391 - acc: 0.7958 - val_loss: 0.4474 - val_acc: 0.7928\n",
      "Epoch 6/6\n",
      "22451/22451 [==============================] - 181s 8ms/step - loss: 0.4214 - acc: 0.8053 - val_loss: 0.4609 - val_acc: 0.7860\n"
     ]
    },
    {
     "data": {
      "text/plain": [
       "<tensorflow.python.keras.callbacks.History at 0x2d6e67bdc50>"
      ]
     },
     "execution_count": 14,
     "metadata": {},
     "output_type": "execute_result"
    }
   ],
   "source": [
    "import tensorflow as tf\n",
    "from tensorflow.keras.models import Sequential\n",
    "from tensorflow.keras.layers import Dense, Dropout, Activation, Flatten, Conv2D, MaxPooling2D\n",
    "import pickle\n",
    "\n",
    "x = pickle.load(open(\"x.pickle\",\"rb\"))\n",
    "y = pickle.load(open(\"y.pickle\",\"rb\"))\n",
    "\n",
    "x = x/255.0\n",
    "\n",
    "model = Sequential()\n",
    "\n",
    "model.add(Conv2D(64, kernel_size=(3, 3), input_shape=x.shape[1:])) # window size = 3 \n",
    "model.add(Activation(\"relu\"))\n",
    "model.add(MaxPooling2D(pool_size=(2,2)))\n",
    "\n",
    "model.add(Conv2D(64, kernel_size=(3,3))) \n",
    "model.add(Activation(\"relu\"))\n",
    "model.add(MaxPooling2D(pool_size=(2,2)))\n",
    "\n",
    "model.add(Flatten())\n",
    "model.add(Dense(64))\n",
    "\n",
    "# output layer\n",
    "model.add(Dense(1))\n",
    "model.add(Activation('sigmoid'))\n",
    "\n",
    "model.compile(loss=\"binary_crossentropy\", optimizer=\"adam\", metrics=['accuracy'])\n",
    "model.fit(x,y, batch_size = 32, epochs=6, validation_split= 0.1)"
   ]
  },
  {
   "cell_type": "code",
   "execution_count": null,
   "metadata": {},
   "outputs": [],
   "source": []
  }
 ],
 "metadata": {
  "kernelspec": {
   "display_name": "Python 3",
   "language": "python",
   "name": "python3"
  },
  "language_info": {
   "codemirror_mode": {
    "name": "ipython",
    "version": 3
   },
   "file_extension": ".py",
   "mimetype": "text/x-python",
   "name": "python",
   "nbconvert_exporter": "python",
   "pygments_lexer": "ipython3",
   "version": "3.6.4"
  }
 },
 "nbformat": 4,
 "nbformat_minor": 2
}
